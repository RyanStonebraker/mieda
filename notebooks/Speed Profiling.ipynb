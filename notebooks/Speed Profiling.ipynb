{
 "cells": [
  {
   "cell_type": "markdown",
   "metadata": {},
   "source": [
    "# Profiling MIEDA's Speed and Computational Complexity\n",
    "\n",
    "This notebook illustrates the scalability of MIEDA as the number of intervals continues to grow. By taking advantage of sorting and a directed-graph in place of recursion, MIEDA is able to scale with relative effectiveness to a large number of intervals - MIEDA is of _(n)log(n)_ complexity. \n",
    "\n",
    "Experiements provided in [our published work]() were performed utilizing hardware with the following specifications: \n",
    "\n",
    "- 2.9 GHz Intel Core i7 (2016)\n",
    "    - 4 cores\n",
    "    - 256KB L2 Cache\n",
    "    - 8MB L3 Cache\n",
    "- 16GB 2133 MHz LPDDR3 RAM\n",
    "\n",
    "At the time of writing and publication, MIEDA exists as a single-threaded application and the following experiments are reflective of that characteristic."
   ]
  },
  {
   "cell_type": "markdown",
   "metadata": {},
   "source": [
    "## Imports "
   ]
  },
  {
   "cell_type": "code",
   "execution_count": 1,
   "metadata": {},
   "outputs": [],
   "source": [
    "# let's make sure we are using the correct kernel \n",
    "import sys; sys.executable"
   ]
  },
  {
   "cell_type": "code",
   "execution_count": 2,
   "metadata": {},
   "outputs": [],
   "source": [
    "from mieda.intervals import Merge"
   ]
  },
  {
   "cell_type": "code",
   "execution_count": 3,
   "metadata": {},
   "outputs": [],
   "source": [
    "# plotting and other things \n",
    "import datetime\n",
    "from ipywidgets import IntProgress\n",
    "import matplotlib.pyplot as plt\n",
    "import numpy as np\n",
    "import pandas as pd\n",
    "import seaborn as sns\n",
    "import time\n",
    "from tqdm.notebook import tqdm"
   ]
  },
  {
   "cell_type": "markdown",
   "metadata": {},
   "source": [
    "## Computation Time as Input Size (Number of Intervals) Increases \n",
    "\n",
    "We will construct a test to see how the speed scales as the number of intervals increases. For this test, we will use the most common scenario, where interval B starts after interval A and ends after interval A. We will also conduct multiple runs to get a more compregensive idea of the computation time as the input size (number of intervals) increases. "
   ]
  },
  {
   "cell_type": "code",
   "execution_count": 4,
   "metadata": {},
   "outputs": [],
   "source": [
    "# define the default interval which will be updated at each iteration \n",
    "seed_interval = [\n",
    "    {\"start\": datetime.datetime(2020, 1, 1, 1, 0, 0), \"finish\": datetime.datetime(2020, 1, 4, 1, 0, 0),\n",
    "     \"set_items\": {\"1\"}}\n",
    "]"
   ]
  },
  {
   "cell_type": "code",
   "execution_count": 5,
   "metadata": {},
   "outputs": [
    {
     "data": {
      "text/plain": [
       "[{'start': datetime.datetime(2020, 1, 1, 1, 0),\n",
       "  'finish': datetime.datetime(2020, 1, 4, 1, 0),\n",
       "  'set_items': {'1'}}]"
      ]
     },
     "execution_count": 5,
     "metadata": {},
     "output_type": "execute_result"
    }
   ],
   "source": [
    "seed_interval"
   ]
  },
  {
   "cell_type": "code",
   "execution_count": 6,
   "metadata": {},
   "outputs": [
    {
     "data": {
      "text/plain": [
       "[0, 10, 20, 30, 40, 50, 60, 70, 80, 90]"
      ]
     },
     "execution_count": 6,
     "metadata": {},
     "output_type": "execute_result"
    }
   ],
   "source": [
    "# generate a range of values for the length of the set of intervals \n",
    "interval_counts = list(range(0, 1000, 10))\n",
    "interval_counts[0:10]"
   ]
  },
  {
   "cell_type": "code",
   "execution_count": 7,
   "metadata": {},
   "outputs": [
    {
     "data": {
      "application/vnd.jupyter.widget-view+json": {
       "model_id": "580945c0f4ce4e5e99a2c34cca804556",
       "version_major": 2,
       "version_minor": 0
      },
      "text/plain": [
       "HBox(children=(IntProgress(value=0), HTML(value='')))"
      ]
     },
     "metadata": {},
     "output_type": "display_data"
    },
    {
     "name": "stdout",
     "output_type": "stream",
     "text": [
      "\n"
     ]
    }
   ],
   "source": [
    "# generate the input data for the test \n",
    "intervals = list()\n",
    "inputs = list()\n",
    "\n",
    "for i in tqdm(interval_counts):\n",
    "    \n",
    "    intervals = seed_interval + list() \n",
    "        \n",
    "    for j in range(i):\n",
    "        \n",
    "        # get the last interval \n",
    "        update_interval = intervals[-1]\n",
    "                    \n",
    "        # add 2 hours to the start and end times \n",
    "        new_interval = update_interval.copy()\n",
    "        new_interval[\"start\"] = update_interval[\"start\"] + datetime.timedelta(hours=2)\n",
    "        new_interval[\"finish\"] = update_interval[\"finish\"] + datetime.timedelta(hours=2)\n",
    "        \n",
    "        # update the set items\n",
    "        new_interval[\"set_items\"] = {str(j)}\n",
    "                \n",
    "        intervals.append(new_interval)\n",
    "        \n",
    "    inputs.append(intervals)"
   ]
  },
  {
   "cell_type": "code",
   "execution_count": 8,
   "metadata": {},
   "outputs": [
    {
     "data": {
      "text/plain": [
       "[{'start': datetime.datetime(2020, 1, 1, 1, 0),\n",
       "  'finish': datetime.datetime(2020, 1, 4, 1, 0),\n",
       "  'set_items': {'1'}},\n",
       " {'start': datetime.datetime(2020, 1, 1, 3, 0),\n",
       "  'finish': datetime.datetime(2020, 1, 4, 3, 0),\n",
       "  'set_items': {'0'}},\n",
       " {'start': datetime.datetime(2020, 1, 1, 5, 0),\n",
       "  'finish': datetime.datetime(2020, 1, 4, 5, 0),\n",
       "  'set_items': {'1'}},\n",
       " {'start': datetime.datetime(2020, 1, 1, 7, 0),\n",
       "  'finish': datetime.datetime(2020, 1, 4, 7, 0),\n",
       "  'set_items': {'2'}},\n",
       " {'start': datetime.datetime(2020, 1, 1, 9, 0),\n",
       "  'finish': datetime.datetime(2020, 1, 4, 9, 0),\n",
       "  'set_items': {'3'}},\n",
       " {'start': datetime.datetime(2020, 1, 1, 11, 0),\n",
       "  'finish': datetime.datetime(2020, 1, 4, 11, 0),\n",
       "  'set_items': {'4'}},\n",
       " {'start': datetime.datetime(2020, 1, 1, 13, 0),\n",
       "  'finish': datetime.datetime(2020, 1, 4, 13, 0),\n",
       "  'set_items': {'5'}},\n",
       " {'start': datetime.datetime(2020, 1, 1, 15, 0),\n",
       "  'finish': datetime.datetime(2020, 1, 4, 15, 0),\n",
       "  'set_items': {'6'}},\n",
       " {'start': datetime.datetime(2020, 1, 1, 17, 0),\n",
       "  'finish': datetime.datetime(2020, 1, 4, 17, 0),\n",
       "  'set_items': {'7'}},\n",
       " {'start': datetime.datetime(2020, 1, 1, 19, 0),\n",
       "  'finish': datetime.datetime(2020, 1, 4, 19, 0),\n",
       "  'set_items': {'8'}},\n",
       " {'start': datetime.datetime(2020, 1, 1, 21, 0),\n",
       "  'finish': datetime.datetime(2020, 1, 4, 21, 0),\n",
       "  'set_items': {'9'}}]"
      ]
     },
     "execution_count": 8,
     "metadata": {},
     "output_type": "execute_result"
    }
   ],
   "source": [
    "# examine the output\n",
    "inputs[1]"
   ]
  },
  {
   "cell_type": "code",
   "execution_count": 9,
   "metadata": {
    "scrolled": true
   },
   "outputs": [
    {
     "name": "stdout",
     "output_type": "stream",
     "text": [
      "\n",
      "--- run 1 ---\n"
     ]
    },
    {
     "data": {
      "application/vnd.jupyter.widget-view+json": {
       "model_id": "4cf489b7ed9349e0ae885f82f1d7f889",
       "version_major": 2,
       "version_minor": 0
      },
      "text/plain": [
       "HBox(children=(IntProgress(value=0), HTML(value='')))"
      ]
     },
     "metadata": {},
     "output_type": "display_data"
    },
    {
     "name": "stdout",
     "output_type": "stream",
     "text": [
      "\n",
      "\n",
      "--- run 2 ---\n"
     ]
    },
    {
     "data": {
      "application/vnd.jupyter.widget-view+json": {
       "model_id": "6ca343bc1c974b0685c398f4d77af479",
       "version_major": 2,
       "version_minor": 0
      },
      "text/plain": [
       "HBox(children=(IntProgress(value=0), HTML(value='')))"
      ]
     },
     "metadata": {},
     "output_type": "display_data"
    },
    {
     "name": "stdout",
     "output_type": "stream",
     "text": [
      "\n",
      "\n",
      "--- run 3 ---\n"
     ]
    },
    {
     "data": {
      "application/vnd.jupyter.widget-view+json": {
       "model_id": "d73e4d6826714385b73313078b1191ca",
       "version_major": 2,
       "version_minor": 0
      },
      "text/plain": [
       "HBox(children=(IntProgress(value=0), HTML(value='')))"
      ]
     },
     "metadata": {},
     "output_type": "display_data"
    },
    {
     "name": "stdout",
     "output_type": "stream",
     "text": [
      "\n",
      "\n",
      "--- run 4 ---\n"
     ]
    },
    {
     "data": {
      "application/vnd.jupyter.widget-view+json": {
       "model_id": "88d16360513b47c99031af600348de21",
       "version_major": 2,
       "version_minor": 0
      },
      "text/plain": [
       "HBox(children=(IntProgress(value=0), HTML(value='')))"
      ]
     },
     "metadata": {},
     "output_type": "display_data"
    },
    {
     "name": "stdout",
     "output_type": "stream",
     "text": [
      "\n",
      "\n",
      "--- run 5 ---\n"
     ]
    },
    {
     "data": {
      "application/vnd.jupyter.widget-view+json": {
       "model_id": "1b1683e2390646829b735f71ee837268",
       "version_major": 2,
       "version_minor": 0
      },
      "text/plain": [
       "HBox(children=(IntProgress(value=0), HTML(value='')))"
      ]
     },
     "metadata": {},
     "output_type": "display_data"
    },
    {
     "name": "stdout",
     "output_type": "stream",
     "text": [
      "\n",
      "\n",
      "--- run 6 ---\n"
     ]
    },
    {
     "data": {
      "application/vnd.jupyter.widget-view+json": {
       "model_id": "9f78f2b4a9f44ffab9ab74856eeacd5c",
       "version_major": 2,
       "version_minor": 0
      },
      "text/plain": [
       "HBox(children=(IntProgress(value=0), HTML(value='')))"
      ]
     },
     "metadata": {},
     "output_type": "display_data"
    },
    {
     "name": "stdout",
     "output_type": "stream",
     "text": [
      "\n",
      "\n",
      "--- run 7 ---\n"
     ]
    },
    {
     "data": {
      "application/vnd.jupyter.widget-view+json": {
       "model_id": "a0dea76a655048a184deccaaa30e5b3f",
       "version_major": 2,
       "version_minor": 0
      },
      "text/plain": [
       "HBox(children=(IntProgress(value=0), HTML(value='')))"
      ]
     },
     "metadata": {},
     "output_type": "display_data"
    },
    {
     "name": "stdout",
     "output_type": "stream",
     "text": [
      "\n",
      "\n",
      "--- run 8 ---\n"
     ]
    },
    {
     "data": {
      "application/vnd.jupyter.widget-view+json": {
       "model_id": "deb9bf4092f0483fad5c378a6c74b93c",
       "version_major": 2,
       "version_minor": 0
      },
      "text/plain": [
       "HBox(children=(IntProgress(value=0), HTML(value='')))"
      ]
     },
     "metadata": {},
     "output_type": "display_data"
    },
    {
     "name": "stdout",
     "output_type": "stream",
     "text": [
      "\n",
      "\n",
      "--- run 9 ---\n"
     ]
    },
    {
     "data": {
      "application/vnd.jupyter.widget-view+json": {
       "model_id": "e9b4e35d25f44b4ba204e60d4b9a6f98",
       "version_major": 2,
       "version_minor": 0
      },
      "text/plain": [
       "HBox(children=(IntProgress(value=0), HTML(value='')))"
      ]
     },
     "metadata": {},
     "output_type": "display_data"
    },
    {
     "name": "stdout",
     "output_type": "stream",
     "text": [
      "\n",
      "\n",
      "--- run 10 ---\n"
     ]
    },
    {
     "data": {
      "application/vnd.jupyter.widget-view+json": {
       "model_id": "3bf0f4f8e306443799f08063d51851c6",
       "version_major": 2,
       "version_minor": 0
      },
      "text/plain": [
       "HBox(children=(IntProgress(value=0), HTML(value='')))"
      ]
     },
     "metadata": {},
     "output_type": "display_data"
    },
    {
     "name": "stdout",
     "output_type": "stream",
     "text": [
      "\n"
     ]
    }
   ],
   "source": [
    "# for each, use mieda to overlap the intervals and create new sets in the intervals through a union merge \n",
    "# track how long it takes for each set of intervals to arrive at a profile of speed based on the input size \n",
    "\n",
    "runs = range(0, 10)\n",
    "run_interval_counts = list()\n",
    "run_seconds_elasped = list()\n",
    "\n",
    "for r in runs:\n",
    "    print(\"\\n--- run \" + str(r + 1) + \" ---\")\n",
    "    interval_count = list()\n",
    "    seconds_elapsed = list()\n",
    "    flops_used = list()\n",
    "    for i in tqdm(inputs):\n",
    "        interval_count.append(len(i))\n",
    "        start = time.process_time()\n",
    "        Merge.union(intervals=i)\n",
    "        seconds_elapsed.append(time.process_time() - start)\n",
    "        \n",
    "    run_interval_counts.append(interval_count)\n",
    "    run_seconds_elasped.append(seconds_elapsed)"
   ]
  },
  {
   "cell_type": "code",
   "execution_count": 10,
   "metadata": {},
   "outputs": [],
   "source": [
    "# flatten the list of runs for plotting \n",
    "flattened_interval_counts = [item for sublist in run_interval_counts for item in sublist]\n",
    "flattened_seconds_elapsed = [item for sublist in run_seconds_elasped for item in sublist]"
   ]
  },
  {
   "cell_type": "code",
   "execution_count": 11,
   "metadata": {},
   "outputs": [],
   "source": [
    "df_runs = pd.DataFrame(\n",
    "    np.array([flattened_interval_counts, flattened_seconds_elapsed]).T,\n",
    "    columns=[\"interval_count\", \"seconds_elapsed\"]\n",
    ")"
   ]
  },
  {
   "cell_type": "code",
   "execution_count": 17,
   "metadata": {
    "scrolled": false
   },
   "outputs": [
    {
     "data": {
      "text/plain": [
       "[Text(6.675000000000004, 0.5, 'Seconds Elapsed\\n'),\n",
       " Text(0.5, 6.800000000000011, '\\nInterval Count')]"
      ]
     },
     "execution_count": 17,
     "metadata": {},
     "output_type": "execute_result"
    },
    {
     "data": {
      "image/png": "[encoded data removed]",
      "text/plain": [
       "<Figure size 756x504 with 1 Axes>"
      ]
     },
     "metadata": {
      "needs_background": "light"
     },
     "output_type": "display_data"
    }
   ],
   "source": [
    "g = sns.lmplot(\n",
    "    x=\"interval_count\", \n",
    "    y=\"seconds_elapsed\", \n",
    "    data=df_runs,\n",
    "    order=2,\n",
    "    height=7,\n",
    "    aspect=1.5,\n",
    "    line_kws={'color': 'red'}\n",
    ")\n",
    "g.set(ylim=(-.05, 1.5))\n",
    "ax = plt.gca()\n",
    "ax.set_title('Seconds Elapsed by Interval Count')\n",
    "ax.set(xlabel='\\nInterval Count', ylabel='Seconds Elapsed\\n')"
   ]
  },
  {
   "cell_type": "code",
   "execution_count": null,
   "metadata": {},
   "outputs": [],
   "source": []
  },
  {
   "cell_type": "code",
   "execution_count": null,
   "metadata": {},
   "outputs": [],
   "source": []
  },
  {
   "cell_type": "code",
   "execution_count": 13,
   "metadata": {},
   "outputs": [],
   "source": [
    "# TODO: do a comparison to recursion! Would be nice to show the difference between the two across runs. \n",
    "# TODO: explore whether MIEDA could be made parallelizable - how to do this with NetworkX? "
   ]
  },
  {
   "cell_type": "code",
   "execution_count": 14,
   "metadata": {},
   "outputs": [],
   "source": [
    "# TODO: try random strategy for the building of intervals (all scenarios)"
   ]
  },
  {
   "cell_type": "code",
   "execution_count": null,
   "metadata": {},
   "outputs": [],
   "source": []
  },
  {
   "cell_type": "code",
   "execution_count": null,
   "metadata": {},
   "outputs": [],
   "source": []
  },
  {
   "cell_type": "code",
   "execution_count": null,
   "metadata": {},
   "outputs": [],
   "source": []
  }
 ],
 "metadata": {
  "kernelspec": {
   "display_name": "venv",
   "language": "python",
   "name": "venv"
  },
  "language_info": {
   "codemirror_mode": {
    "name": "ipython",
    "version": 3
   },
   "file_extension": ".py",
   "mimetype": "text/x-python",
   "name": "python",
   "nbconvert_exporter": "python",
   "pygments_lexer": "ipython3",
   "version": "3.7.4"
  }
 },
 "nbformat": 4,
 "nbformat_minor": 2
}
