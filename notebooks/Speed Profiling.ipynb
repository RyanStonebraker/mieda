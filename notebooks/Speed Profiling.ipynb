{
 "cells": [
  {
   "cell_type": "markdown",
   "metadata": {},
   "source": [
    "# Profiling MIEDA's Speed and Computational Complexity\n",
    "\n",
    "This notebook illustrates the scalability of MIEDA as the number of intervals continues to grow. By taking advantage of sorting and a directed-graph in place of recursion, MIEDA is able to scale with relative effectiveness to a large number of intervals - MIEDA is of _(n)log(n)_ complexity. \n",
    "\n",
    "Experiements provided in [our published work]() were performed utilizing hardware with the following specifications: \n",
    "\n",
    "- 2.9 GHz Intel Core i7 (2016)\n",
    "    - 4 cores\n",
    "    - 256KB L2 Cache\n",
    "    - 8MB L3 Cache\n",
    "- 16GB 2133 MHz LPDDR3 RAM\n",
    "\n",
    "At the time of writing and publication, MIEDA exists as a single-threaded application and the following experiments are reflective of that characteristic."
   ]
  },
  {
   "cell_type": "markdown",
   "metadata": {},
   "source": [
    "## Imports "
   ]
  },
  {
   "cell_type": "code",
   "execution_count": 1,
   "metadata": {},
   "outputs": [
    {
     "data": {
      "text/plain": [
       "'/usr/local/anaconda3/bin/python'"
      ]
     },
     "execution_count": 1,
     "metadata": {},
     "output_type": "execute_result"
    }
   ],
   "source": [
    "# let's make sure we are using the correct kernel \n",
    "import sys; sys.executable"
   ]
  },
  {
   "cell_type": "code",
   "execution_count": 2,
   "metadata": {},
   "outputs": [],
   "source": [
    "import os\n",
    "import inspect\n",
    "\n",
    "currentdir = os.path.dirname(os.path.abspath(inspect.getfile(inspect.currentframe())))\n",
    "parentdir = os.path.dirname(currentdir)\n",
    "sys.path.insert(0, parentdir)"
   ]
  },
  {
   "cell_type": "code",
   "execution_count": 3,
   "metadata": {},
   "outputs": [],
   "source": [
    "from mieda.intervals import Merge\n",
    "from comparisons.iterative import Merge as it_merge\n",
    "from comparisons.iterative_optimized import Merge as itop_merge"
   ]
  },
  {
   "cell_type": "code",
   "execution_count": 4,
   "metadata": {},
   "outputs": [],
   "source": [
    "# plotting and other things \n",
    "import datetime\n",
    "from ipywidgets import IntProgress\n",
    "import matplotlib.pyplot as plt\n",
    "import numpy as np\n",
    "import pandas as pd\n",
    "import seaborn as sns\n",
    "import time\n",
    "from tqdm.notebook import tqdm"
   ]
  },
  {
   "cell_type": "markdown",
   "metadata": {},
   "source": [
    "## Computation Time as Input Size (Number of Intervals) Increases \n",
    "\n",
    "We will construct a test to see how the speed scales as the number of intervals increases. For this test, we will use the most common scenario, where interval B starts after interval A and ends after interval A. We will also conduct multiple runs to get a more compregensive idea of the computation time as the input size (number of intervals) increases. "
   ]
  },
  {
   "cell_type": "code",
   "execution_count": 5,
   "metadata": {},
   "outputs": [],
   "source": [
    "# define the default interval which will be updated at each iteration \n",
    "seed_interval = [\n",
    "    {\"start\": datetime.datetime(2020, 1, 1, 1, 0, 0), \"finish\": datetime.datetime(2020, 1, 4, 1, 0, 0),\n",
    "     \"set_items\": {\"1\"}}\n",
    "]"
   ]
  },
  {
   "cell_type": "code",
   "execution_count": 6,
   "metadata": {},
   "outputs": [
    {
     "data": {
      "text/plain": [
       "[{'start': datetime.datetime(2020, 1, 1, 1, 0),\n",
       "  'finish': datetime.datetime(2020, 1, 4, 1, 0),\n",
       "  'set_items': {'1'}}]"
      ]
     },
     "execution_count": 6,
     "metadata": {},
     "output_type": "execute_result"
    }
   ],
   "source": [
    "seed_interval"
   ]
  },
  {
   "cell_type": "code",
   "execution_count": 7,
   "metadata": {},
   "outputs": [
    {
     "data": {
      "text/plain": [
       "[0, 10, 20, 30, 40, 50, 60, 70, 80, 90]"
      ]
     },
     "execution_count": 7,
     "metadata": {},
     "output_type": "execute_result"
    }
   ],
   "source": [
    "# generate a range of values for the length of the set of intervals \n",
    "interval_counts = list(range(0, 1000, 10))\n",
    "interval_counts[0:10]"
   ]
  },
  {
   "cell_type": "code",
   "execution_count": 8,
   "metadata": {},
   "outputs": [
    {
     "data": {
      "application/vnd.jupyter.widget-view+json": {
       "model_id": "12b5c0e1811a463c898b45c6a3d4deb8",
       "version_major": 2,
       "version_minor": 0
      },
      "text/plain": [
       "HBox(children=(FloatProgress(value=0.0), HTML(value='')))"
      ]
     },
     "metadata": {},
     "output_type": "display_data"
    },
    {
     "name": "stdout",
     "output_type": "stream",
     "text": [
      "\n"
     ]
    }
   ],
   "source": [
    "# generate the input data for the test \n",
    "intervals = list()\n",
    "inputs = list()\n",
    "\n",
    "for i in tqdm(interval_counts):\n",
    "    \n",
    "    intervals = seed_interval + list() \n",
    "        \n",
    "    for j in range(i):\n",
    "        \n",
    "        # get the last interval \n",
    "        update_interval = intervals[-1]\n",
    "                    \n",
    "        # add 2 hours to the start and end times \n",
    "        new_interval = update_interval.copy()\n",
    "        new_interval[\"start\"] = update_interval[\"start\"] + datetime.timedelta(hours=2)\n",
    "        new_interval[\"finish\"] = update_interval[\"finish\"] + datetime.timedelta(hours=2)\n",
    "        \n",
    "        # update the set items\n",
    "        new_interval[\"set_items\"] = {str(j)}\n",
    "                \n",
    "        intervals.append(new_interval)\n",
    "        \n",
    "    inputs.append(intervals)"
   ]
  },
  {
   "cell_type": "code",
   "execution_count": 9,
   "metadata": {},
   "outputs": [
    {
     "data": {
      "text/plain": [
       "[{'start': datetime.datetime(2020, 1, 1, 1, 0),\n",
       "  'finish': datetime.datetime(2020, 1, 4, 1, 0),\n",
       "  'set_items': {'1'}},\n",
       " {'start': datetime.datetime(2020, 1, 1, 3, 0),\n",
       "  'finish': datetime.datetime(2020, 1, 4, 3, 0),\n",
       "  'set_items': {'0'}},\n",
       " {'start': datetime.datetime(2020, 1, 1, 5, 0),\n",
       "  'finish': datetime.datetime(2020, 1, 4, 5, 0),\n",
       "  'set_items': {'1'}},\n",
       " {'start': datetime.datetime(2020, 1, 1, 7, 0),\n",
       "  'finish': datetime.datetime(2020, 1, 4, 7, 0),\n",
       "  'set_items': {'2'}},\n",
       " {'start': datetime.datetime(2020, 1, 1, 9, 0),\n",
       "  'finish': datetime.datetime(2020, 1, 4, 9, 0),\n",
       "  'set_items': {'3'}},\n",
       " {'start': datetime.datetime(2020, 1, 1, 11, 0),\n",
       "  'finish': datetime.datetime(2020, 1, 4, 11, 0),\n",
       "  'set_items': {'4'}},\n",
       " {'start': datetime.datetime(2020, 1, 1, 13, 0),\n",
       "  'finish': datetime.datetime(2020, 1, 4, 13, 0),\n",
       "  'set_items': {'5'}},\n",
       " {'start': datetime.datetime(2020, 1, 1, 15, 0),\n",
       "  'finish': datetime.datetime(2020, 1, 4, 15, 0),\n",
       "  'set_items': {'6'}},\n",
       " {'start': datetime.datetime(2020, 1, 1, 17, 0),\n",
       "  'finish': datetime.datetime(2020, 1, 4, 17, 0),\n",
       "  'set_items': {'7'}},\n",
       " {'start': datetime.datetime(2020, 1, 1, 19, 0),\n",
       "  'finish': datetime.datetime(2020, 1, 4, 19, 0),\n",
       "  'set_items': {'8'}},\n",
       " {'start': datetime.datetime(2020, 1, 1, 21, 0),\n",
       "  'finish': datetime.datetime(2020, 1, 4, 21, 0),\n",
       "  'set_items': {'9'}}]"
      ]
     },
     "execution_count": 9,
     "metadata": {},
     "output_type": "execute_result"
    }
   ],
   "source": [
    "# examine the output\n",
    "inputs[1]"
   ]
  },
  {
   "cell_type": "code",
   "execution_count": 10,
   "metadata": {},
   "outputs": [],
   "source": [
    "def measureBulkTime(func, runs=10, time_limit=None):\n",
    "    run_interval_counts = list()\n",
    "    run_seconds_elapsed = list()\n",
    "\n",
    "    measure_start_time = time.process_time()\n",
    "    for r in range(runs):\n",
    "        print(\"\\n--- run \" + str(r + 1) + \" ---\")\n",
    "        interval_count = list()\n",
    "        seconds_elapsed = list()\n",
    "        flops_used = list()\n",
    "        for i in tqdm(inputs):\n",
    "            interval_count.append(len(i))\n",
    "            start = time.process_time()\n",
    "            func(i)\n",
    "            seconds_elapsed.append(time.process_time() - start)\n",
    "            if time_limit and time.process_time() - measure_start_time > time_limit:\n",
    "                break\n",
    "\n",
    "        run_interval_counts.append(interval_count)\n",
    "        run_seconds_elapsed.append(seconds_elapsed)\n",
    "        \n",
    "        if time_limit and time.process_time() - measure_start_time > time_limit:\n",
    "            break\n",
    "    \n",
    "    return (run_interval_counts, run_seconds_elapsed)\n",
    "    "
   ]
  },
  {
   "cell_type": "code",
   "execution_count": 11,
   "metadata": {
    "scrolled": true
   },
   "outputs": [
    {
     "name": "stdout",
     "output_type": "stream",
     "text": [
      "\n",
      "--- run 1 ---\n"
     ]
    },
    {
     "data": {
      "application/vnd.jupyter.widget-view+json": {
       "model_id": "48998d7edbd142e78ba8865f56452c59",
       "version_major": 2,
       "version_minor": 0
      },
      "text/plain": [
       "HBox(children=(FloatProgress(value=0.0), HTML(value='')))"
      ]
     },
     "metadata": {},
     "output_type": "display_data"
    },
    {
     "name": "stdout",
     "output_type": "stream",
     "text": [
      "\n",
      "\n",
      "--- run 2 ---\n"
     ]
    },
    {
     "data": {
      "application/vnd.jupyter.widget-view+json": {
       "model_id": "f58500f0c82746589d46341ef303e3fc",
       "version_major": 2,
       "version_minor": 0
      },
      "text/plain": [
       "HBox(children=(FloatProgress(value=0.0), HTML(value='')))"
      ]
     },
     "metadata": {},
     "output_type": "display_data"
    },
    {
     "name": "stdout",
     "output_type": "stream",
     "text": [
      "\n",
      "\n",
      "--- run 3 ---\n"
     ]
    },
    {
     "data": {
      "application/vnd.jupyter.widget-view+json": {
       "model_id": "4c28f677e38646baa024383c6b2d6d03",
       "version_major": 2,
       "version_minor": 0
      },
      "text/plain": [
       "HBox(children=(FloatProgress(value=0.0), HTML(value='')))"
      ]
     },
     "metadata": {},
     "output_type": "display_data"
    },
    {
     "name": "stdout",
     "output_type": "stream",
     "text": [
      "\n",
      "\n",
      "--- run 4 ---\n"
     ]
    },
    {
     "data": {
      "application/vnd.jupyter.widget-view+json": {
       "model_id": "111eb840d87b49b4bcf13f87f6bb103c",
       "version_major": 2,
       "version_minor": 0
      },
      "text/plain": [
       "HBox(children=(FloatProgress(value=0.0), HTML(value='')))"
      ]
     },
     "metadata": {},
     "output_type": "display_data"
    },
    {
     "name": "stdout",
     "output_type": "stream",
     "text": [
      "\n",
      "\n",
      "--- run 5 ---\n"
     ]
    },
    {
     "data": {
      "application/vnd.jupyter.widget-view+json": {
       "model_id": "70e388f69d6049f89a78d4239c5efc10",
       "version_major": 2,
       "version_minor": 0
      },
      "text/plain": [
       "HBox(children=(FloatProgress(value=0.0), HTML(value='')))"
      ]
     },
     "metadata": {},
     "output_type": "display_data"
    },
    {
     "name": "stdout",
     "output_type": "stream",
     "text": [
      "\n",
      "\n",
      "--- run 6 ---\n"
     ]
    },
    {
     "data": {
      "application/vnd.jupyter.widget-view+json": {
       "model_id": "3d343a4223e745b792a4dae9e6e34be7",
       "version_major": 2,
       "version_minor": 0
      },
      "text/plain": [
       "HBox(children=(FloatProgress(value=0.0), HTML(value='')))"
      ]
     },
     "metadata": {},
     "output_type": "display_data"
    },
    {
     "name": "stdout",
     "output_type": "stream",
     "text": [
      "\n",
      "\n",
      "--- run 7 ---\n"
     ]
    },
    {
     "data": {
      "application/vnd.jupyter.widget-view+json": {
       "model_id": "2df1944894b34eee90c7dda8bca56a7f",
       "version_major": 2,
       "version_minor": 0
      },
      "text/plain": [
       "HBox(children=(FloatProgress(value=0.0), HTML(value='')))"
      ]
     },
     "metadata": {},
     "output_type": "display_data"
    },
    {
     "name": "stdout",
     "output_type": "stream",
     "text": [
      "\n",
      "\n",
      "--- run 8 ---\n"
     ]
    },
    {
     "data": {
      "application/vnd.jupyter.widget-view+json": {
       "model_id": "4479425641944f0dba303da1099ceabd",
       "version_major": 2,
       "version_minor": 0
      },
      "text/plain": [
       "HBox(children=(FloatProgress(value=0.0), HTML(value='')))"
      ]
     },
     "metadata": {},
     "output_type": "display_data"
    },
    {
     "name": "stdout",
     "output_type": "stream",
     "text": [
      "\n",
      "\n",
      "--- run 9 ---\n"
     ]
    },
    {
     "data": {
      "application/vnd.jupyter.widget-view+json": {
       "model_id": "f33a2c779ea74c0f81e4765638e32fd8",
       "version_major": 2,
       "version_minor": 0
      },
      "text/plain": [
       "HBox(children=(FloatProgress(value=0.0), HTML(value='')))"
      ]
     },
     "metadata": {},
     "output_type": "display_data"
    },
    {
     "name": "stdout",
     "output_type": "stream",
     "text": [
      "\n",
      "\n",
      "--- run 10 ---\n"
     ]
    },
    {
     "data": {
      "application/vnd.jupyter.widget-view+json": {
       "model_id": "cb5235edd20745c0903ec404431dad20",
       "version_major": 2,
       "version_minor": 0
      },
      "text/plain": [
       "HBox(children=(FloatProgress(value=0.0), HTML(value='')))"
      ]
     },
     "metadata": {},
     "output_type": "display_data"
    },
    {
     "name": "stdout",
     "output_type": "stream",
     "text": [
      "\n"
     ]
    }
   ],
   "source": [
    "# for each, use mieda to overlap the intervals and create new sets in the intervals through a union merge \n",
    "# track how long it takes for each set of intervals to arrive at a profile of speed based on the input size \n",
    "run_interval_counts, run_seconds_elapsed = measureBulkTime(Merge.union, 10)"
   ]
  },
  {
   "cell_type": "code",
   "execution_count": 12,
   "metadata": {},
   "outputs": [],
   "source": [
    "def plotMultiSpeed(trials):\n",
    "    # flatten the list of runs for plotting \n",
    "    flattened_interval_counts = []\n",
    "    flattened_seconds_elapsed = []\n",
    "    algorithm_used = []\n",
    "    algorithms = []\n",
    "    for i, trial in enumerate(trials):\n",
    "        flattened_trial_interval_counts = [item for sublist in trial[\"interval_count\"] for item in sublist]\n",
    "        flattened_trial_seconds_elapsed = [item for sublist in trial[\"seconds_elapsed\"] for item in sublist]\n",
    "        flattened_interval_counts += flattened_trial_interval_counts\n",
    "        flattened_seconds_elapsed += flattened_trial_seconds_elapsed\n",
    "        algorithm_used += [i] * len(flattened_trial_seconds_elapsed)\n",
    "        algorithms.append(trial[\"algorithm\"])\n",
    "\n",
    "    df_runs = pd.DataFrame(\n",
    "        np.array([flattened_interval_counts, flattened_seconds_elapsed, algorithm_used]).T,\n",
    "        columns=[\"interval_count\", \"seconds_elapsed\", \"algorithm\"]\n",
    "    )\n",
    "    \n",
    "    g = sns.lmplot(\n",
    "        x=\"interval_count\", \n",
    "        y=\"seconds_elapsed\", \n",
    "        data=df_runs,\n",
    "        order=2,\n",
    "        height=7,\n",
    "        aspect=1.5,\n",
    "        legend_out=False,\n",
    "        hue=\"algorithm\",\n",
    "        palette=['#4daf4a','#1f78b4','#e41a1c','#7570b3'],\n",
    "        line_kws={\"lw\":4, 'ls':'--'}\n",
    "    )\n",
    "    g.set(ylim=(-.05, 1.5), xlim=(0, 1010))\n",
    "    ax = plt.gca()\n",
    "    ax.set_title('Seconds Elapsed by Interval Count')\n",
    "    ax.set(xlabel='\\nInterval Count', ylabel='Seconds Elapsed\\n')\n",
    "    \n",
    "    legend = g.axes[0, 0].get_legend()\n",
    "    for i, text in enumerate(legend.texts):\n",
    "        legend.texts[i].set_text(algorithms[i])"
   ]
  },
  {
   "cell_type": "code",
   "execution_count": 13,
   "metadata": {},
   "outputs": [],
   "source": [
    "def plotSingleSpeed(run_interval_counts, run_seconds_elapsed):\n",
    "    # flatten the list of runs for plotting \n",
    "    flattened_interval_counts = [item for sublist in run_interval_counts for item in sublist]\n",
    "    flattened_seconds_elapsed = [item for sublist in run_seconds_elapsed for item in sublist]\n",
    "    df_runs = pd.DataFrame(\n",
    "        np.array([flattened_interval_counts, flattened_seconds_elapsed]).T,\n",
    "        columns=[\"interval_count\", \"seconds_elapsed\"]\n",
    "    )\n",
    "    \n",
    "    g = sns.lmplot(\n",
    "        x=\"interval_count\", \n",
    "        y=\"seconds_elapsed\", \n",
    "        data=df_runs,\n",
    "        order=2,\n",
    "        height=7,\n",
    "        aspect=1.5,\n",
    "        line_kws={'color': 'red'}\n",
    "    )\n",
    "    g.set(ylim=(-.05, 1.5))\n",
    "    ax = plt.gca()\n",
    "    ax.set_title('Seconds Elapsed by Interval Count')\n",
    "    ax.set(xlabel='\\nInterval Count', ylabel='Seconds Elapsed\\n')"
   ]
  },
  {
   "cell_type": "code",
   "execution_count": 14,
   "metadata": {},
   "outputs": [
    {
     "data": {
      "image/png": "[encoded data removed]",
      "text/plain": [
       "<Figure size 756x504 with 1 Axes>"
      ]
     },
     "metadata": {
      "needs_background": "light"
     },
     "output_type": "display_data"
    }
   ],
   "source": [
    "# Graph speed of mieda algorithm on increasing number of intervals\n",
    "plotSingleSpeed(run_interval_counts, run_seconds_elapsed)"
   ]
  },
  {
   "cell_type": "code",
   "execution_count": 18,
   "metadata": {},
   "outputs": [
    {
     "name": "stdout",
     "output_type": "stream",
     "text": [
      "\n",
      "--- run 1 ---\n"
     ]
    },
    {
     "data": {
      "application/vnd.jupyter.widget-view+json": {
       "model_id": "6bc908c2c2fa4c42a332296bd95f97d5",
       "version_major": 2,
       "version_minor": 0
      },
      "text/plain": [
       "HBox(children=(FloatProgress(value=0.0), HTML(value='')))"
      ]
     },
     "metadata": {},
     "output_type": "display_data"
    }
   ],
   "source": [
    "iterative_counts, iterative_time = measureBulkTime(it_merge.union, 1, time_limit=60)"
   ]
  },
  {
   "cell_type": "code",
   "execution_count": 16,
   "metadata": {},
   "outputs": [
    {
     "name": "stdout",
     "output_type": "stream",
     "text": [
      "\n",
      "--- run 1 ---\n"
     ]
    },
    {
     "data": {
      "application/vnd.jupyter.widget-view+json": {
       "model_id": "77d68462872f4bc18c44343e8ad069bd",
       "version_major": 2,
       "version_minor": 0
      },
      "text/plain": [
       "HBox(children=(FloatProgress(value=0.0), HTML(value='')))"
      ]
     },
     "metadata": {},
     "output_type": "display_data"
    },
    {
     "name": "stdout",
     "output_type": "stream",
     "text": [
      "\n",
      "\n",
      "--- run 2 ---\n"
     ]
    },
    {
     "data": {
      "application/vnd.jupyter.widget-view+json": {
       "model_id": "a1bc2e6987ae499990b9952674b0ae2e",
       "version_major": 2,
       "version_minor": 0
      },
      "text/plain": [
       "HBox(children=(FloatProgress(value=0.0), HTML(value='')))"
      ]
     },
     "metadata": {},
     "output_type": "display_data"
    },
    {
     "name": "stdout",
     "output_type": "stream",
     "text": [
      "\n",
      "\n",
      "--- run 3 ---\n"
     ]
    },
    {
     "data": {
      "application/vnd.jupyter.widget-view+json": {
       "model_id": "a9b6a66741cf4e9098b9d1315e6f48a0",
       "version_major": 2,
       "version_minor": 0
      },
      "text/plain": [
       "HBox(children=(FloatProgress(value=0.0), HTML(value='')))"
      ]
     },
     "metadata": {},
     "output_type": "display_data"
    },
    {
     "name": "stdout",
     "output_type": "stream",
     "text": [
      "\n",
      "\n",
      "--- run 4 ---\n"
     ]
    },
    {
     "data": {
      "application/vnd.jupyter.widget-view+json": {
       "model_id": "67ce0234bba3442abb9db336fa277976",
       "version_major": 2,
       "version_minor": 0
      },
      "text/plain": [
       "HBox(children=(FloatProgress(value=0.0), HTML(value='')))"
      ]
     },
     "metadata": {},
     "output_type": "display_data"
    },
    {
     "name": "stdout",
     "output_type": "stream",
     "text": [
      "\n",
      "\n",
      "--- run 5 ---\n"
     ]
    },
    {
     "data": {
      "application/vnd.jupyter.widget-view+json": {
       "model_id": "b5f474ff58d44f5aa4e45bc537a845fe",
       "version_major": 2,
       "version_minor": 0
      },
      "text/plain": [
       "HBox(children=(FloatProgress(value=0.0), HTML(value='')))"
      ]
     },
     "metadata": {},
     "output_type": "display_data"
    },
    {
     "name": "stdout",
     "output_type": "stream",
     "text": [
      "\n",
      "\n",
      "--- run 6 ---\n"
     ]
    },
    {
     "data": {
      "application/vnd.jupyter.widget-view+json": {
       "model_id": "807d500019984258a4d5b3cc510f0c87",
       "version_major": 2,
       "version_minor": 0
      },
      "text/plain": [
       "HBox(children=(FloatProgress(value=0.0), HTML(value='')))"
      ]
     },
     "metadata": {},
     "output_type": "display_data"
    },
    {
     "name": "stdout",
     "output_type": "stream",
     "text": [
      "\n",
      "\n",
      "--- run 7 ---\n"
     ]
    },
    {
     "data": {
      "application/vnd.jupyter.widget-view+json": {
       "model_id": "f26b59cc9c5c4930a5c16a8cf19a2963",
       "version_major": 2,
       "version_minor": 0
      },
      "text/plain": [
       "HBox(children=(FloatProgress(value=0.0), HTML(value='')))"
      ]
     },
     "metadata": {},
     "output_type": "display_data"
    },
    {
     "name": "stdout",
     "output_type": "stream",
     "text": [
      "\n",
      "\n",
      "--- run 8 ---\n"
     ]
    },
    {
     "data": {
      "application/vnd.jupyter.widget-view+json": {
       "model_id": "4675736515d041dcbb7747bf8add1d1d",
       "version_major": 2,
       "version_minor": 0
      },
      "text/plain": [
       "HBox(children=(FloatProgress(value=0.0), HTML(value='')))"
      ]
     },
     "metadata": {},
     "output_type": "display_data"
    },
    {
     "name": "stdout",
     "output_type": "stream",
     "text": [
      "\n",
      "\n",
      "--- run 9 ---\n"
     ]
    },
    {
     "data": {
      "application/vnd.jupyter.widget-view+json": {
       "model_id": "cf6370faa1274a8fa121359c1574167b",
       "version_major": 2,
       "version_minor": 0
      },
      "text/plain": [
       "HBox(children=(FloatProgress(value=0.0), HTML(value='')))"
      ]
     },
     "metadata": {},
     "output_type": "display_data"
    },
    {
     "name": "stdout",
     "output_type": "stream",
     "text": [
      "\n",
      "\n",
      "--- run 10 ---\n"
     ]
    },
    {
     "data": {
      "application/vnd.jupyter.widget-view+json": {
       "model_id": "cf99123dfdd04e44b3e09b7c9b142840",
       "version_major": 2,
       "version_minor": 0
      },
      "text/plain": [
       "HBox(children=(FloatProgress(value=0.0), HTML(value='')))"
      ]
     },
     "metadata": {},
     "output_type": "display_data"
    },
    {
     "name": "stdout",
     "output_type": "stream",
     "text": [
      "\n"
     ]
    }
   ],
   "source": [
    "iterative_opt_counts, iterative_opt_time = measureBulkTime(itop_merge.union, 10)"
   ]
  },
  {
   "cell_type": "code",
   "execution_count": 19,
   "metadata": {},
   "outputs": [],
   "source": [
    "algorithms = [\n",
    "    {\n",
    "        \"interval_count\": run_interval_counts,\n",
    "        \"seconds_elapsed\": run_seconds_elapsed,\n",
    "        \"algorithm\": \"mieda\"\n",
    "    },\n",
    "    {\n",
    "        \"interval_count\": iterative_counts,\n",
    "        \"seconds_elapsed\": iterative_time,\n",
    "        \"algorithm\": \"iterative\"\n",
    "    },\n",
    "    {\n",
    "        \"interval_count\": iterative_opt_counts,\n",
    "        \"seconds_elapsed\": iterative_opt_time,\n",
    "        \"algorithm\": \"iterative optimized\"\n",
    "    }\n",
    "]"
   ]
  },
  {
   "cell_type": "code",
   "execution_count": 20,
   "metadata": {},
   "outputs": [
    {
     "data": {
      "image/png": "[encoded data removed]",
      "text/plain": [
       "<Figure size 756x504 with 1 Axes>"
      ]
     },
     "metadata": {
      "needs_background": "light"
     },
     "output_type": "display_data"
    }
   ],
   "source": [
    "plotMultiSpeed(algorithms)"
   ]
  },
  {
   "cell_type": "code",
   "execution_count": null,
   "metadata": {},
   "outputs": [],
   "source": [
    "# TODO: do a comparison to recursion! Would be nice to show the difference between the two across runs. \n",
    "# TODO: explore whether MIEDA could be made parallelizable - how to do this with NetworkX? "
   ]
  },
  {
   "cell_type": "code",
   "execution_count": null,
   "metadata": {},
   "outputs": [],
   "source": [
    "# TODO: try random strategy for the building of intervals (all scenarios)"
   ]
  },
  {
   "cell_type": "code",
   "execution_count": null,
   "metadata": {},
   "outputs": [],
   "source": []
  },
  {
   "cell_type": "code",
   "execution_count": null,
   "metadata": {},
   "outputs": [],
   "source": []
  },
  {
   "cell_type": "code",
   "execution_count": null,
   "metadata": {},
   "outputs": [],
   "source": []
  }
 ],
 "metadata": {
  "kernelspec": {
   "display_name": "Python 3",
   "language": "python",
   "name": "python3"
  },
  "language_info": {
   "codemirror_mode": {
    "name": "ipython",
    "version": 3
   },
   "file_extension": ".py",
   "mimetype": "text/x-python",
   "name": "python",
   "nbconvert_exporter": "python",
   "pygments_lexer": "ipython3",
   "version": "3.7.3"
  }
 },
 "nbformat": 4,
 "nbformat_minor": 2
}
