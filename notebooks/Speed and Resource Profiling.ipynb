{
 "cells": [
  {
   "cell_type": "markdown",
   "metadata": {},
   "source": [
    "# Profiling MIEDA's Speed and Resource Consumption\n",
    "\n",
    "This notebook illustrates the linear scaling of MIEDA as the number of intervals continues to grow under several scenarios. By taking advantage of sorting, MIEDA is able to scale effectively to a large number of intervals and utilizes a low amount of memory and CPU while doing so - opening up the door to use on embedded and other computationally-limited environments. "
   ]
  },
  {
   "cell_type": "markdown",
   "metadata": {},
   "source": [
    "## Imports "
   ]
  },
  {
   "cell_type": "code",
   "execution_count": 1,
   "metadata": {},
   "outputs": [
    {
     "data": {
      "text/plain": [
       "'/Users/vconstan/Files/Projects/mieda/mieda/venv/bin/python'"
      ]
     },
     "execution_count": 1,
     "metadata": {},
     "output_type": "execute_result"
    }
   ],
   "source": [
    "# let's make sure we are using the correct kernel \n",
    "import sys; sys.executable"
   ]
  },
  {
   "cell_type": "code",
   "execution_count": 3,
   "metadata": {},
   "outputs": [],
   "source": [
    "from mieda.intervals import Merge"
   ]
  },
  {
   "cell_type": "code",
   "execution_count": 4,
   "metadata": {},
   "outputs": [],
   "source": [
    "# plotting and other things \n",
    "import datetime\n",
    "from ipywidgets import IntProgress\n",
    "import matplotlib.pyplot as plt\n",
    "import time\n",
    "from tqdm.notebook import tqdm"
   ]
  },
  {
   "cell_type": "markdown",
   "metadata": {},
   "source": [
    "## Computational Time Curve as Input Size Increases \n",
    "\n",
    "We will construct a test to see how the speed scales as the number of intervals increases. For this test, we will use the most common scenario, where interval B starts after interval A and ends after interval A. "
   ]
  },
  {
   "cell_type": "code",
   "execution_count": 12,
   "metadata": {},
   "outputs": [],
   "source": [
    "# define the default interval which will be updated at each iteration \n",
    "seed_interval = [\n",
    "    {\"start\": datetime.datetime(2020, 1, 1, 1, 0, 0), \"finish\": datetime.datetime(2020, 1, 4, 1, 0, 0),\n",
    "     \"set_items\": {\"1\"}}\n",
    "]"
   ]
  },
  {
   "cell_type": "code",
   "execution_count": 13,
   "metadata": {},
   "outputs": [
    {
     "data": {
      "text/plain": [
       "[0, 10, 20, 30, 40, 50, 60, 70, 80, 90]"
      ]
     },
     "execution_count": 13,
     "metadata": {},
     "output_type": "execute_result"
    }
   ],
   "source": [
    "# generate a range of values for the length of the set of intervals \n",
    "interval_counts = list(range(0, 10000, 10))\n",
    "interval_counts[0:10]"
   ]
  },
  {
   "cell_type": "code",
   "execution_count": 14,
   "metadata": {},
   "outputs": [
    {
     "data": {
      "application/vnd.jupyter.widget-view+json": {
       "model_id": "4aceecb3d8284680a7f1454bef5b7634",
       "version_major": 2,
       "version_minor": 0
      },
      "text/plain": [
       "HBox(children=(IntProgress(value=0, max=1000), HTML(value='')))"
      ]
     },
     "metadata": {},
     "output_type": "display_data"
    },
    {
     "name": "stdout",
     "output_type": "stream",
     "text": [
      "\n",
      "\n"
     ]
    }
   ],
   "source": [
    "# generate the input data \n",
    "inputs = list()\n",
    "for i in tqdm(interval_counts):\n",
    "    intervals = list() + seed_interval\n",
    "    for j in range(i):\n",
    "        # get the last interval \n",
    "        update_interval = intervals[-1]\n",
    "            \n",
    "        # add 2 hours to the start and end times \n",
    "        update_interval[\"start\"] = update_interval[\"start\"] + datetime.timedelta(hours=2)\n",
    "        update_interval[\"finish\"] = update_interval[\"finish\"] + datetime.timedelta(hours=2)\n",
    "        \n",
    "        # update the set items\n",
    "        update_interval[\"set_items\"] = {str(j)}\n",
    "        \n",
    "        intervals.append(update_interval)\n",
    "        \n",
    "#     print(len(intervals))\n",
    "        \n",
    "    inputs.append(intervals)"
   ]
  },
  {
   "cell_type": "code",
   "execution_count": 15,
   "metadata": {},
   "outputs": [
    {
     "data": {
      "text/plain": [
       "[{'start': datetime.datetime(3159, 8, 28, 1, 0),\n",
       "  'finish': datetime.datetime(3159, 8, 31, 1, 0),\n",
       "  'set_items': {'9989'}}]"
      ]
     },
     "execution_count": 15,
     "metadata": {},
     "output_type": "execute_result"
    }
   ],
   "source": [
    "inputs[0]"
   ]
  },
  {
   "cell_type": "code",
   "execution_count": 16,
   "metadata": {},
   "outputs": [
    {
     "data": {
      "text/plain": [
       "[{'start': datetime.datetime(3159, 8, 28, 1, 0),\n",
       "  'finish': datetime.datetime(3159, 8, 31, 1, 0),\n",
       "  'set_items': {'9989'}},\n",
       " {'start': datetime.datetime(3159, 8, 28, 1, 0),\n",
       "  'finish': datetime.datetime(3159, 8, 31, 1, 0),\n",
       "  'set_items': {'9989'}},\n",
       " {'start': datetime.datetime(3159, 8, 28, 1, 0),\n",
       "  'finish': datetime.datetime(3159, 8, 31, 1, 0),\n",
       "  'set_items': {'9989'}},\n",
       " {'start': datetime.datetime(3159, 8, 28, 1, 0),\n",
       "  'finish': datetime.datetime(3159, 8, 31, 1, 0),\n",
       "  'set_items': {'9989'}},\n",
       " {'start': datetime.datetime(3159, 8, 28, 1, 0),\n",
       "  'finish': datetime.datetime(3159, 8, 31, 1, 0),\n",
       "  'set_items': {'9989'}},\n",
       " {'start': datetime.datetime(3159, 8, 28, 1, 0),\n",
       "  'finish': datetime.datetime(3159, 8, 31, 1, 0),\n",
       "  'set_items': {'9989'}},\n",
       " {'start': datetime.datetime(3159, 8, 28, 1, 0),\n",
       "  'finish': datetime.datetime(3159, 8, 31, 1, 0),\n",
       "  'set_items': {'9989'}},\n",
       " {'start': datetime.datetime(3159, 8, 28, 1, 0),\n",
       "  'finish': datetime.datetime(3159, 8, 31, 1, 0),\n",
       "  'set_items': {'9989'}},\n",
       " {'start': datetime.datetime(3159, 8, 28, 1, 0),\n",
       "  'finish': datetime.datetime(3159, 8, 31, 1, 0),\n",
       "  'set_items': {'9989'}},\n",
       " {'start': datetime.datetime(3159, 8, 28, 1, 0),\n",
       "  'finish': datetime.datetime(3159, 8, 31, 1, 0),\n",
       "  'set_items': {'9989'}},\n",
       " {'start': datetime.datetime(3159, 8, 28, 1, 0),\n",
       "  'finish': datetime.datetime(3159, 8, 31, 1, 0),\n",
       "  'set_items': {'9989'}}]"
      ]
     },
     "execution_count": 16,
     "metadata": {},
     "output_type": "execute_result"
    }
   ],
   "source": [
    "inputs[1]"
   ]
  },
  {
   "cell_type": "code",
   "execution_count": 17,
   "metadata": {},
   "outputs": [
    {
     "data": {
      "application/vnd.jupyter.widget-view+json": {
       "model_id": "ad661c2e228740cd92e1aaa6a8a4bbd8",
       "version_major": 2,
       "version_minor": 0
      },
      "text/plain": [
       "HBox(children=(IntProgress(value=0, max=1000), HTML(value='')))"
      ]
     },
     "metadata": {},
     "output_type": "display_data"
    },
    {
     "name": "stdout",
     "output_type": "stream",
     "text": [
      "\n"
     ]
    }
   ],
   "source": [
    "# for each, use mieda to overlap the intervals and create new sets in the intervals through a union merge \n",
    "# track how long it takes for each set of intervals to arrive at a profile of speed based on the input size \n",
    "\n",
    "interval_count = list()\n",
    "seconds_elapsed = list()\n",
    "for i in tqdm(inputs):\n",
    "    interval_count.append(len(i))\n",
    "    start = time.process_time()\n",
    "    Merge.union(intervals=i)\n",
    "    seconds_elapsed.append(time.process_time() - start)"
   ]
  },
  {
   "cell_type": "code",
   "execution_count": 18,
   "metadata": {},
   "outputs": [],
   "source": [
    "# create a moving average value as well \n",
    "N = 10\n",
    "cumsum, moving_aves = [0], []\n",
    "\n",
    "for i, x in enumerate(seconds_elapsed, 1):\n",
    "    cumsum.append(cumsum[i-1] + x)\n",
    "    if i >= N:\n",
    "        moving_ave = (cumsum[i] - cumsum[i-N])/N\n",
    "        #can do stuff with moving_ave here\n",
    "        moving_aves.append(moving_ave)"
   ]
  },
  {
   "cell_type": "code",
   "execution_count": 19,
   "metadata": {},
   "outputs": [],
   "source": [
    "moving_aves_plot = ((len(seconds_elapsed) - len(moving_aves)) * [0]) + moving_aves"
   ]
  },
  {
   "cell_type": "code",
   "execution_count": 20,
   "metadata": {},
   "outputs": [
    {
     "name": "stderr",
     "output_type": "stream",
     "text": [
      "/Users/vconstan/Files/Projects/mieda/mieda/venv/lib/python3.7/site-packages/ipykernel_launcher.py:9: UserWarning: Matplotlib is currently using module://ipykernel.pylab.backend_inline, which is a non-GUI backend, so cannot show the figure.\n",
      "  if __name__ == '__main__':\n"
     ]
    },
    {
     "data": {
      "text/plain": [
       "<Figure size 432x288 with 0 Axes>"
      ]
     },
     "metadata": {},
     "output_type": "display_data"
    },
    {
     "data": {
      "image/png": "[encoded data removed]",
      "text/plain": [
       "<Figure size 720x504 with 1 Axes>"
      ]
     },
     "metadata": {
      "needs_background": "light"
     },
     "output_type": "display_data"
    }
   ],
   "source": [
    "plt.cla()\n",
    "plt.clf()\n",
    "fig = plt.figure(figsize=(10,7))\n",
    "ax = plt.axes()\n",
    "ax.plot(interval_count, moving_aves_plot)\n",
    "plt.xlabel(\"Number of Intervals\", labelpad=20)\n",
    "plt.ylabel(\"Moving Average of Seconds Elapsed (n=\" + str(N) + \")\", labelpad=20)\n",
    "plt.rcParams[\"font.size\"] = \"15\"\n",
    "fig.show()\n"
   ]
  },
  {
   "cell_type": "markdown",
   "metadata": {},
   "source": [
    "It seems to scale linearly :) "
   ]
  },
  {
   "cell_type": "code",
   "execution_count": 22,
   "metadata": {},
   "outputs": [],
   "source": [
    "# TODO: add a linear regression to get the slope and the rate in which it scales \n",
    "# TODO: try random strategy for the building of intervals (all scenarios)\n",
    "# TODO: profile CPU and MEM used "
   ]
  },
  {
   "cell_type": "code",
   "execution_count": null,
   "metadata": {},
   "outputs": [],
   "source": []
  },
  {
   "cell_type": "code",
   "execution_count": null,
   "metadata": {},
   "outputs": [],
   "source": []
  },
  {
   "cell_type": "code",
   "execution_count": null,
   "metadata": {},
   "outputs": [],
   "source": []
  }
 ],
 "metadata": {
  "kernelspec": {
   "display_name": "venv",
   "language": "python",
   "name": "venv"
  },
  "language_info": {
   "codemirror_mode": {
    "name": "ipython",
    "version": 3
   },
   "file_extension": ".py",
   "mimetype": "text/x-python",
   "name": "python",
   "nbconvert_exporter": "python",
   "pygments_lexer": "ipython3",
   "version": "3.7.4"
  }
 },
 "nbformat": 4,
 "nbformat_minor": 2
}
